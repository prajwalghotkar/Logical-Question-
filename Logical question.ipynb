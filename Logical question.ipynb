{
 "cells": [
  {
   "cell_type": "code",
   "execution_count": 1,
   "metadata": {},
   "outputs": [
    {
     "name": "stdout",
     "output_type": "stream",
     "text": [
      "python version\n",
      "3.11.5 | packaged by Anaconda, Inc. | (main, Sep 11 2023, 13:26:23) [MSC v.1916 64 bit (AMD64)]\n",
      "version_info\n",
      "sys.version_info(major=3, minor=11, micro=5, releaselevel='final', serial=0)\n"
     ]
    }
   ],
   "source": [
    "# 1) Write a Python program to get the Python version you are using......ok prajwal\n",
    "\n",
    "import sys\n",
    "print('python version')\n",
    "print(sys.version)\n",
    "print('version_info')\n",
    "print(sys.version_info)"
   ]
  },
  {
   "cell_type": "code",
   "execution_count": 2,
   "metadata": {},
   "outputs": [
    {
     "name": "stdout",
     "output_type": "stream",
     "text": [
      "2024-03-23 15:41:26.997755\n"
     ]
    }
   ],
   "source": [
    "# 2) Write a python program to display the current date anf time.....\n",
    "\n",
    "import datetime\n",
    "x=datetime.datetime.now()\n",
    "print(x)"
   ]
  },
  {
   "cell_type": "code",
   "execution_count": 3,
   "metadata": {},
   "outputs": [
    {
     "name": "stdout",
     "output_type": "stream",
     "text": [
      "Current date and time:\n",
      "2024-03-23\n",
      "15:41:29:PM\n"
     ]
    }
   ],
   "source": [
    "# strftime() is a Python methon you can use to convert dates to strings....\n",
    "import datetime\n",
    "now=datetime.datetime.now()\n",
    "print('Current date and time:')\n",
    "print(now.strftime('%Y-%m-%d'))\n",
    "print(now.strftime('%X:%p'))"
   ]
  },
  {
   "cell_type": "code",
   "execution_count": 4,
   "metadata": {},
   "outputs": [
    {
     "name": "stdout",
     "output_type": "stream",
     "text": [
      "Area of the circle with the radius 1.1 is : 3.8013271108436504\n"
     ]
    }
   ],
   "source": [
    "# 3) Write a pythom which accepts the radius of a circle from the user and comute the area.....\n",
    "from math import pi\n",
    "r=float(input('Enter the radius of the circle:'))\n",
    "print('Area of the circle with the radius ' +str(r)+ ' is : ' +str(pi*r**2))"
   ]
  },
  {
   "cell_type": "code",
   "execution_count": 5,
   "metadata": {},
   "outputs": [
    {
     "name": "stdout",
     "output_type": "stream",
     "text": [
      "Hello Ghotkar Prajwal\n"
     ]
    }
   ],
   "source": [
    "# 4) Write a python program which accepts the user's first and last name and print them in reverse order with a space between them\n",
    "fname=input('Enter the first name')\n",
    "lname=input('Enter the last name')\n",
    "print('Hello ' +lname+ ' '+fname)"
   ]
  },
  {
   "cell_type": "code",
   "execution_count": 6,
   "metadata": {},
   "outputs": [
    {
     "name": "stdout",
     "output_type": "stream",
     "text": [
      "List ['1', '2', '3', '4', '5', '6', '7', '8', '9']\n",
      "\n",
      "Tuple ('1', '2', '3', '4', '5', '6', '7', '8', '9')\n"
     ]
    }
   ],
   "source": [
    "''' 5) Write a Python program which accepts a sequence o fcomma-separated numbers and generate a\n",
    "list and tuple with those numbers'''\n",
    "\n",
    "# The split() method a string into a list\n",
    "values=input('Input some comma separated number')\n",
    "list1=values.split(',')\n",
    "tuple1=tuple(list1)\n",
    "print('List',list1)\n",
    "print()\n",
    "print('Tuple',tuple1)      \n",
    "      "
   ]
  },
  {
   "cell_type": "code",
   "execution_count": 8,
   "metadata": {},
   "outputs": [
    {
     "name": "stdout",
     "output_type": "stream",
     "text": [
      "List : ['1', '2', '3', '4', '9', 'prajwal', 'UK', 'Apple', '$900000000000']\n",
      "tuple : ('1', '2', '3', '4', '9', 'prajwal', 'UK', 'Apple', '$900000000000')\n"
     ]
    }
   ],
   "source": [
    "values=input('Input comma separated numbers and some thing like charecter')\n",
    "list1=values.split(',')\n",
    "tuple1=tuple(list1)\n",
    "print('List :',list1)\n",
    "print('tuple :',tuple1)"
   ]
  },
  {
   "cell_type": "code",
   "execution_count": 9,
   "metadata": {},
   "outputs": [
    {
     "name": "stdout",
     "output_type": "stream",
     "text": [
      "['Hello', 'my name is Prajwal', 'I am from UK']\n"
     ]
    }
   ],
   "source": [
    "txt=\"Hello,my name is Prajwal,I am from UK\"\n",
    "x=txt.split(',')\n",
    "print(x)"
   ]
  },
  {
   "cell_type": "code",
   "execution_count": 10,
   "metadata": {},
   "outputs": [
    {
     "name": "stdout",
     "output_type": "stream",
     "text": [
      "['apple', 'banana', 'cherry', 'orange']\n"
     ]
    }
   ],
   "source": [
    "txt=\"apple#banana#cherry#orange\"\n",
    "x=txt.split('#')\n",
    "print(x)"
   ]
  },
  {
   "cell_type": "code",
   "execution_count": 11,
   "metadata": {},
   "outputs": [
    {
     "name": "stdout",
     "output_type": "stream",
     "text": [
      "['apple', 'banan#cherry#orange']\n"
     ]
    }
   ],
   "source": [
    "txt='apple#banan#cherry#orange'\n",
    "# setting the maxsplit parameter to 1,will return a list with 2 elements!\n",
    "x=txt.split('#',1)\n",
    "print(x)"
   ]
  },
  {
   "cell_type": "code",
   "execution_count": 12,
   "metadata": {},
   "outputs": [
    {
     "name": "stdout",
     "output_type": "stream",
     "text": [
      "Extension of the file is :'py'\n"
     ]
    }
   ],
   "source": [
    "# 6) Write a pyhton program to accept a filename from the user and print the extension of that.\n",
    "\n",
    "filename=input('Enter your file name:')\n",
    "file_exte=filename.split('.')\n",
    "print('Extension of the file is :' +repr(file_exte[-1]))"
   ]
  },
  {
   "cell_type": "code",
   "execution_count": 13,
   "metadata": {},
   "outputs": [
    {
     "name": "stdout",
     "output_type": "stream",
     "text": [
      "User input file name : prajwal.ipynb\n",
      "\n",
      "Extension of the file is:'ipynb'\n"
     ]
    }
   ],
   "source": [
    "filename=input('Input your file name:')\n",
    "file_exte=filename.split('.')\n",
    "print('User input file name :',filename)\n",
    "print()\n",
    "print('Extension of the file is:' +repr(file_exte[-1]))"
   ]
  },
  {
   "cell_type": "code",
   "execution_count": 14,
   "metadata": {},
   "outputs": [
    {
     "name": "stdout",
     "output_type": "stream",
     "text": [
      "2024-03-23 15:47:21.157543\n",
      "\n",
      "2024-03-23 15:47:21.157543\n",
      "\n",
      "datetime.datetime(2024, 3, 23, 15, 47, 21, 157543)\n"
     ]
    }
   ],
   "source": [
    "import datetime\n",
    "today=datetime.datetime.now()\n",
    "print(today)\n",
    "print()\n",
    "print(str(today))\n",
    "print()\n",
    "# print the official format of date and time\n",
    "print(repr(today))"
   ]
  },
  {
   "cell_type": "code",
   "execution_count": 15,
   "metadata": {},
   "outputs": [
    {
     "name": "stdout",
     "output_type": "stream",
     "text": [
      "Red Black\n"
     ]
    }
   ],
   "source": [
    "# Write a python program to display the first and last colors from the following list color_list=['Red','Green','Blue','White']\n",
    "\n",
    "color_list=['Red','Green','Blue','White','Black']\n",
    "print('%s %s' %(color_list[0],color_list[-1]))"
   ]
  },
  {
   "cell_type": "code",
   "execution_count": 16,
   "metadata": {},
   "outputs": [
    {
     "name": "stdout",
     "output_type": "stream",
     "text": [
      "Red White Black\n"
     ]
    }
   ],
   "source": [
    "color_list=['Red','Green','Blue','White','Black']\n",
    "print('%s %s %s' %(color_list[0],color_list[3],color_list[-1]))"
   ]
  },
  {
   "cell_type": "code",
   "execution_count": 17,
   "metadata": {},
   "outputs": [
    {
     "name": "stdout",
     "output_type": "stream",
     "text": [
      "5\n",
      "55\n",
      "555\n",
      "\n",
      "615\n"
     ]
    }
   ],
   "source": [
    "# write a python program that accepts an integer (n) and computes the value of n+nn+nnn\n",
    "\n",
    "a=int(input('Input an integer : '))\n",
    "n1=int('%s' % (a))\n",
    "n2=int('%s%s' % (a , a))\n",
    "n3=int('%s%s%s' % (a , a , a))\n",
    "print(n1)\n",
    "print(n2)\n",
    "print(n3)\n",
    "print()\n",
    "print(n1+n2+n3)\n"
   ]
  },
  {
   "cell_type": "code",
   "execution_count": 18,
   "metadata": {},
   "outputs": [
    {
     "name": "stdout",
     "output_type": "stream",
     "text": [
      "The volume of the sphere is: 904.7786857860413\n"
     ]
    }
   ],
   "source": [
    "# 9) Write a Python program to get the voloume of a sphere with radius 6.....\n",
    "\n",
    "pi=3.14159265897931\n",
    "r=6.0\n",
    "V=4.0/3.0*pi*r**3\n",
    "print('The volume of the sphere is:',V)"
   ]
  },
  {
   "cell_type": "code",
   "execution_count": 20,
   "metadata": {},
   "outputs": [
    {
     "name": "stdout",
     "output_type": "stream",
     "text": [
      "The volume of the sphere is: 3053.6280592892786\n"
     ]
    }
   ],
   "source": [
    "pi=3.1415926535897931\n",
    "r=float(input('Enter the radius:'))\n",
    "V=4.0/3.0*pi*r**3\n",
    "print('The volume of the sphere is:',V)"
   ]
  },
  {
   "cell_type": "code",
   "execution_count": 21,
   "metadata": {},
   "outputs": [
    {
     "name": "stdout",
     "output_type": "stream",
     "text": [
      "d:h:m:s-> 142 days :21 hours :1281 minutes:18 secods\n"
     ]
    }
   ],
   "source": [
    "# 10) write a python program to cionvert seconds to day,hour,minutes and seconds.....\n",
    "time=float(input('Input time in in seconds:'))\n",
    "day=time//(24*3600)\n",
    "time=time%(24*3600)\n",
    "hour=time//3600\n",
    "minutes=time//60\n",
    "time%=60\n",
    "seconds=time\n",
    "print('d:h:m:s-> %d days :%d hours :%d minutes:%d secods'%(day,hour,minutes,seconds))"
   ]
  }
 ],
 "metadata": {
  "kernelspec": {
   "display_name": "base",
   "language": "python",
   "name": "python3"
  },
  "language_info": {
   "codemirror_mode": {
    "name": "ipython",
    "version": 3
   },
   "file_extension": ".py",
   "mimetype": "text/x-python",
   "name": "python",
   "nbconvert_exporter": "python",
   "pygments_lexer": "ipython3",
   "version": "3.11.5"
  }
 },
 "nbformat": 4,
 "nbformat_minor": 2
}
